{
 "cells": [
  {
   "cell_type": "code",
   "execution_count": null,
   "metadata": {
    "vscode": {
     "languageId": "plaintext"
    }
   },
   "outputs": [],
   "source": [
    "import pandas as pd\n",
    "import matplotlib.pyplot as plt\n",
    "from neuralprophet import NeuralProphet\n",
    "\n",
    "# Load your dataset\n",
    "# Assuming your dataset has a column 'ds' for dates and 'y' for the target variable\n",
    "df = pd.read_csv('your_data.csv')\n",
    "\n",
    "# Data preview\n",
    "print(df.head())\n",
    "\n",
    "# Initialize NeuralProphet model\n",
    "model = NeuralProphet()\n",
    "\n",
    "# Fit the model to the data\n",
    "# 'df' should contain 'ds' (date) and 'y' (value to predict)\n",
    "metrics = model.fit(df, freq='D')  # Assuming daily data\n",
    "\n",
    "# Create future dataframe for prediction (e.g., predict for next 365 days)\n",
    "future = model.make_future_dataframe(df, periods=365)\n",
    "\n",
    "# Make predictions\n",
    "forecast = model.predict(future)\n",
    "\n",
    "# Plot the forecast\n",
    "plot1 = model.plot(forecast)\n",
    "plt.show()\n",
    "\n",
    "# Plot forecast components (trend, seasonality, etc.)\n",
    "plot2 = model.plot_components(forecast)\n",
    "plt.show()\n",
    "\n",
    "# Optional: Save forecast to CSV\n",
    "forecast.to_csv('forecast_output.csv', index=False)\n",
    "\n",
    "# Optional: Inspect the forecast\n",
    "print(forecast.head())\n"
   ]
  }
 ],
 "metadata": {
  "language_info": {
   "name": "python"
  }
 },
 "nbformat": 4,
 "nbformat_minor": 2
}
